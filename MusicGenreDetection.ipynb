{
  "nbformat": 4,
  "nbformat_minor": 0,
  "metadata": {
    "colab": {
      "name": "MusicGenreDetection.ipynb",
      "provenance": []
    },
    "kernelspec": {
      "name": "python3",
      "display_name": "Python 3"
    },
    "language_info": {
      "name": "python"
    }
  },
  "cells": [
    {
      "cell_type": "markdown",
      "metadata": {
        "id": "dkGRhe7twv-X"
      },
      "source": [
        "Music Genre Classification"
      ]
    },
    {
      "cell_type": "markdown",
      "metadata": {
        "id": "2vlS_UK-ymrg"
      },
      "source": [
        "1. Connecting Colab to GDrive"
      ]
    },
    {
      "cell_type": "code",
      "metadata": {
        "colab": {
          "base_uri": "https://localhost:8080/"
        },
        "id": "cJz6nNrXw1zy",
        "outputId": "20636129-8468-44e6-8d67-18e6b1776b94"
      },
      "source": [
        "from google.colab import drive\n",
        "drive.mount('/content/gdrive/')"
      ],
      "execution_count": 1,
      "outputs": [
        {
          "output_type": "stream",
          "text": [
            "Mounted at /content/gdrive/\n"
          ],
          "name": "stdout"
        }
      ]
    },
    {
      "cell_type": "code",
      "metadata": {
        "colab": {
          "base_uri": "https://localhost:8080/"
        },
        "id": "Av61grOFxPJW",
        "outputId": "ceda98b5-bf94-41d2-fe6b-7f87cd654d44"
      },
      "source": [
        "cd /content/gdrive/MyDrive/Colab Notebooks/MusicGenreDetection"
      ],
      "execution_count": 2,
      "outputs": [
        {
          "output_type": "stream",
          "text": [
            "/content/gdrive/MyDrive/Colab Notebooks/MusicGenreDetection\n"
          ],
          "name": "stdout"
        }
      ]
    },
    {
      "cell_type": "code",
      "metadata": {
        "colab": {
          "base_uri": "https://localhost:8080/"
        },
        "id": "-U8_dDhgyikd",
        "outputId": "c21233e8-1014-4078-b954-f34d06a60c1d"
      },
      "source": [
        "ls"
      ],
      "execution_count": 3,
      "outputs": [
        {
          "output_type": "stream",
          "text": [
            "\u001b[0m\u001b[01;34mdata\u001b[0m/  data.csv  genre_classifier_cnn.h5  MusicGenreDetection.ipynb  notes.gdoc\n"
          ],
          "name": "stdout"
        }
      ]
    },
    {
      "cell_type": "markdown",
      "metadata": {
        "id": "ka66KuN7yx6B"
      },
      "source": [
        "2. Loading Data"
      ]
    },
    {
      "cell_type": "code",
      "metadata": {
        "id": "k0ivRc2Su7su"
      },
      "source": [
        "import os\n",
        "import csv\n",
        "import numpy as np"
      ],
      "execution_count": 4,
      "outputs": []
    },
    {
      "cell_type": "code",
      "metadata": {
        "id": "NpDWgclcrDRt",
        "colab": {
          "base_uri": "https://localhost:8080/"
        },
        "outputId": "ce69da13-f69f-41a6-9acf-33cbd99c1c01"
      },
      "source": [
        "dataset = os.path.join(os.getcwd(), 'data/genres_original')\n",
        "print(dataset)"
      ],
      "execution_count": 5,
      "outputs": [
        {
          "output_type": "stream",
          "text": [
            "/content/gdrive/MyDrive/Colab Notebooks/MusicGenreDetection/data/genres_original\n"
          ],
          "name": "stdout"
        }
      ]
    },
    {
      "cell_type": "markdown",
      "metadata": {
        "id": "Tee0J2oHy3Na"
      },
      "source": [
        "3. Feature Extraction"
      ]
    },
    {
      "cell_type": "code",
      "metadata": {
        "id": "uxxYzwTlvr5t"
      },
      "source": [
        "import librosa\n",
        "import pandas as pd"
      ],
      "execution_count": 6,
      "outputs": []
    },
    {
      "cell_type": "code",
      "metadata": {
        "id": "EKAOu1_NvApd"
      },
      "source": [
        "def get_class_code(class_name):\n",
        "    if class_name == 'blues':\n",
        "        return 0\n",
        "    elif class_name == 'classical':\n",
        "        return 1\n",
        "    elif class_name == 'country':\n",
        "        return 2\n",
        "    elif class_name == 'disco':\n",
        "        return 3\n",
        "    elif class_name == 'hiphop':\n",
        "        return 4\n",
        "    elif class_name == 'jazz':\n",
        "        return 5\n",
        "    elif class_name == 'metal':\n",
        "        return 6\n",
        "    elif class_name == 'pop':\n",
        "        return 7\n",
        "    elif class_name == 'reggae':\n",
        "        return 8\n",
        "    elif class_name == 'rock':\n",
        "        return 9"
      ],
      "execution_count": 7,
      "outputs": []
    },
    {
      "cell_type": "code",
      "metadata": {
        "colab": {
          "base_uri": "https://localhost:8080/"
        },
        "id": "2DY3aA7k0PmI",
        "outputId": "2baaae76-4472-402f-a67b-7f84663333ec"
      },
      "source": [
        "to_append = np.array(range(21))\n",
        "file = open('data.csv', 'w', newline='')\n",
        "with file:\n",
        "    writer = csv.writer(file)\n",
        "    writer.writerow(to_append)\n",
        "    \n",
        "for i in os.listdir(dataset):\n",
        "    temp_path = os.path.join(dataset, i)\n",
        "    print(i, ' features extracted...')\n",
        "    for j in os.listdir(temp_path):\n",
        "        current_song_path = os.path.join(temp_path, j)\n",
        "        y, sc = librosa.load(current_song_path)\n",
        "        mfcc = librosa.feature.mfcc(y=y)\n",
        "        to_append = np.array([])\n",
        "        for mean_val in mfcc:\n",
        "            to_append = np.append(to_append, np.mean(mean_val))\n",
        "        to_append = np.append(to_append, get_class_code(i))\n",
        "    \n",
        "        file = open('data.csv', 'a', newline='')\n",
        "        with file:\n",
        "            writer = csv.writer(file)\n",
        "            writer.writerow(to_append)\n",
        "            \n",
        "print('--extraction complete--')"
      ],
      "execution_count": 8,
      "outputs": [
        {
          "output_type": "stream",
          "text": [
            "disco  features extracted...\n",
            "jazz  features extracted...\n",
            "hiphop  features extracted...\n",
            "metal  features extracted...\n",
            "pop  features extracted...\n",
            "reggae  features extracted...\n",
            "country  features extracted...\n",
            "rock  features extracted...\n",
            "classical  features extracted...\n",
            "blues  features extracted...\n",
            "--extraction complete--\n"
          ],
          "name": "stdout"
        }
      ]
    },
    {
      "cell_type": "code",
      "metadata": {
        "colab": {
          "base_uri": "https://localhost:8080/",
          "height": 224
        },
        "id": "gDBh1TpsyBZC",
        "outputId": "3aa999e5-c1e5-4ac0-8c3a-3ec15794e4c4"
      },
      "source": [
        "data = pd.read_csv('data.csv')\n",
        "data.head()"
      ],
      "execution_count": 9,
      "outputs": [
        {
          "output_type": "execute_result",
          "data": {
            "text/html": [
              "<div>\n",
              "<style scoped>\n",
              "    .dataframe tbody tr th:only-of-type {\n",
              "        vertical-align: middle;\n",
              "    }\n",
              "\n",
              "    .dataframe tbody tr th {\n",
              "        vertical-align: top;\n",
              "    }\n",
              "\n",
              "    .dataframe thead th {\n",
              "        text-align: right;\n",
              "    }\n",
              "</style>\n",
              "<table border=\"1\" class=\"dataframe\">\n",
              "  <thead>\n",
              "    <tr style=\"text-align: right;\">\n",
              "      <th></th>\n",
              "      <th>0</th>\n",
              "      <th>1</th>\n",
              "      <th>2</th>\n",
              "      <th>3</th>\n",
              "      <th>4</th>\n",
              "      <th>5</th>\n",
              "      <th>6</th>\n",
              "      <th>7</th>\n",
              "      <th>8</th>\n",
              "      <th>9</th>\n",
              "      <th>10</th>\n",
              "      <th>11</th>\n",
              "      <th>12</th>\n",
              "      <th>13</th>\n",
              "      <th>14</th>\n",
              "      <th>15</th>\n",
              "      <th>16</th>\n",
              "      <th>17</th>\n",
              "      <th>18</th>\n",
              "      <th>19</th>\n",
              "      <th>20</th>\n",
              "    </tr>\n",
              "  </thead>\n",
              "  <tbody>\n",
              "    <tr>\n",
              "      <th>0</th>\n",
              "      <td>-111.096703</td>\n",
              "      <td>94.027962</td>\n",
              "      <td>12.417175</td>\n",
              "      <td>16.642750</td>\n",
              "      <td>8.123975</td>\n",
              "      <td>15.666401</td>\n",
              "      <td>-1.411972</td>\n",
              "      <td>7.022716</td>\n",
              "      <td>0.973053</td>\n",
              "      <td>-1.494219</td>\n",
              "      <td>-3.085720</td>\n",
              "      <td>-5.098383</td>\n",
              "      <td>-3.713450</td>\n",
              "      <td>0.226685</td>\n",
              "      <td>-2.103518</td>\n",
              "      <td>-1.815571</td>\n",
              "      <td>-5.322057</td>\n",
              "      <td>1.239463</td>\n",
              "      <td>-5.596891</td>\n",
              "      <td>-3.592719</td>\n",
              "      <td>3.0</td>\n",
              "    </tr>\n",
              "    <tr>\n",
              "      <th>1</th>\n",
              "      <td>-83.524353</td>\n",
              "      <td>64.488609</td>\n",
              "      <td>5.647238</td>\n",
              "      <td>2.704125</td>\n",
              "      <td>0.787572</td>\n",
              "      <td>6.166559</td>\n",
              "      <td>1.887543</td>\n",
              "      <td>1.978100</td>\n",
              "      <td>-1.810995</td>\n",
              "      <td>1.859412</td>\n",
              "      <td>2.458162</td>\n",
              "      <td>-0.223534</td>\n",
              "      <td>2.957042</td>\n",
              "      <td>-3.382444</td>\n",
              "      <td>-0.867831</td>\n",
              "      <td>0.047193</td>\n",
              "      <td>-1.565166</td>\n",
              "      <td>0.561841</td>\n",
              "      <td>0.300277</td>\n",
              "      <td>-2.782476</td>\n",
              "      <td>3.0</td>\n",
              "    </tr>\n",
              "    <tr>\n",
              "      <th>2</th>\n",
              "      <td>-53.139091</td>\n",
              "      <td>57.174351</td>\n",
              "      <td>21.162836</td>\n",
              "      <td>11.305180</td>\n",
              "      <td>18.122616</td>\n",
              "      <td>1.666931</td>\n",
              "      <td>0.351049</td>\n",
              "      <td>2.330658</td>\n",
              "      <td>-5.102267</td>\n",
              "      <td>2.749287</td>\n",
              "      <td>3.152155</td>\n",
              "      <td>-5.514364</td>\n",
              "      <td>-3.158053</td>\n",
              "      <td>-0.518785</td>\n",
              "      <td>-2.643273</td>\n",
              "      <td>-1.986541</td>\n",
              "      <td>-1.233337</td>\n",
              "      <td>-3.362679</td>\n",
              "      <td>-3.735123</td>\n",
              "      <td>-1.449847</td>\n",
              "      <td>3.0</td>\n",
              "    </tr>\n",
              "    <tr>\n",
              "      <th>3</th>\n",
              "      <td>-44.427231</td>\n",
              "      <td>52.308861</td>\n",
              "      <td>3.241821</td>\n",
              "      <td>43.953217</td>\n",
              "      <td>12.588358</td>\n",
              "      <td>24.510374</td>\n",
              "      <td>4.918080</td>\n",
              "      <td>15.308396</td>\n",
              "      <td>2.044262</td>\n",
              "      <td>10.394155</td>\n",
              "      <td>-1.465400</td>\n",
              "      <td>8.832397</td>\n",
              "      <td>0.410705</td>\n",
              "      <td>4.666180</td>\n",
              "      <td>-1.832787</td>\n",
              "      <td>2.984866</td>\n",
              "      <td>-2.035989</td>\n",
              "      <td>-3.349386</td>\n",
              "      <td>-4.155849</td>\n",
              "      <td>-0.357713</td>\n",
              "      <td>3.0</td>\n",
              "    </tr>\n",
              "    <tr>\n",
              "      <th>4</th>\n",
              "      <td>-28.996529</td>\n",
              "      <td>51.860023</td>\n",
              "      <td>-7.567776</td>\n",
              "      <td>21.508854</td>\n",
              "      <td>8.142488</td>\n",
              "      <td>18.112507</td>\n",
              "      <td>6.885487</td>\n",
              "      <td>6.562539</td>\n",
              "      <td>0.709288</td>\n",
              "      <td>11.163654</td>\n",
              "      <td>-1.810252</td>\n",
              "      <td>1.638895</td>\n",
              "      <td>-2.588552</td>\n",
              "      <td>-1.373494</td>\n",
              "      <td>-3.614005</td>\n",
              "      <td>0.215831</td>\n",
              "      <td>-0.391182</td>\n",
              "      <td>2.636313</td>\n",
              "      <td>-3.362998</td>\n",
              "      <td>-0.089296</td>\n",
              "      <td>3.0</td>\n",
              "    </tr>\n",
              "  </tbody>\n",
              "</table>\n",
              "</div>"
            ],
            "text/plain": [
              "            0          1          2  ...        18        19   20\n",
              "0 -111.096703  94.027962  12.417175  ... -5.596891 -3.592719  3.0\n",
              "1  -83.524353  64.488609   5.647238  ...  0.300277 -2.782476  3.0\n",
              "2  -53.139091  57.174351  21.162836  ... -3.735123 -1.449847  3.0\n",
              "3  -44.427231  52.308861   3.241821  ... -4.155849 -0.357713  3.0\n",
              "4  -28.996529  51.860023  -7.567776  ... -3.362998 -0.089296  3.0\n",
              "\n",
              "[5 rows x 21 columns]"
            ]
          },
          "metadata": {
            "tags": []
          },
          "execution_count": 9
        }
      ]
    },
    {
      "cell_type": "markdown",
      "metadata": {
        "id": "5cff8VvbyJP2"
      },
      "source": [
        "4. Data Preparation"
      ]
    },
    {
      "cell_type": "code",
      "metadata": {
        "colab": {
          "base_uri": "https://localhost:8080/"
        },
        "id": "2ZiddxIZyV77",
        "outputId": "20d3d710-2051-4d36-8b39-29072ba710d2"
      },
      "source": [
        "from sklearn.model_selection import train_test_split\n",
        "print(data.shape)\n",
        "\n",
        "y = data.pop('20')\n",
        "x = data"
      ],
      "execution_count": 10,
      "outputs": [
        {
          "output_type": "stream",
          "text": [
            "(1000, 21)\n"
          ],
          "name": "stdout"
        }
      ]
    },
    {
      "cell_type": "code",
      "metadata": {
        "colab": {
          "base_uri": "https://localhost:8080/"
        },
        "id": "pcEZlSULyaeF",
        "outputId": "35148275-9a99-437d-e1d1-0c79c2b95bde"
      },
      "source": [
        "print(x.shape)\n",
        "print(y.shape)"
      ],
      "execution_count": 11,
      "outputs": [
        {
          "output_type": "stream",
          "text": [
            "(1000, 20)\n",
            "(1000,)\n"
          ],
          "name": "stdout"
        }
      ]
    },
    {
      "cell_type": "code",
      "metadata": {
        "colab": {
          "base_uri": "https://localhost:8080/"
        },
        "id": "wj49Li2mycf4",
        "outputId": "ce93d028-c432-4107-9ed8-a808b3b53969"
      },
      "source": [
        "x_train,x_test,y_train,y_test = train_test_split(x,y,test_size=0.2)\n",
        "\n",
        "print(x_train.shape)\n",
        "print(y_train.shape)\n",
        "print(x_test.shape)\n",
        "print(y_test.shape)"
      ],
      "execution_count": 12,
      "outputs": [
        {
          "output_type": "stream",
          "text": [
            "(800, 20)\n",
            "(800,)\n",
            "(200, 20)\n",
            "(200,)\n"
          ],
          "name": "stdout"
        }
      ]
    },
    {
      "cell_type": "markdown",
      "metadata": {
        "id": "8-M5ak01y3R7"
      },
      "source": [
        "5. Model Creation"
      ]
    },
    {
      "cell_type": "code",
      "metadata": {
        "id": "4zPZqpybyEsC"
      },
      "source": [
        "from keras import models\n",
        "from keras import layers"
      ],
      "execution_count": 13,
      "outputs": []
    },
    {
      "cell_type": "code",
      "metadata": {
        "id": "Ja4gVYuQyilA"
      },
      "source": [
        "model = models.Sequential()\n",
        "model.add(layers.Dense(256, activation='relu', input_shape=(x_train.shape[1],)))\n",
        "model.add(layers.Dense(128, activation='relu'))\n",
        "model.add(layers.Dense(64, activation='relu'))\n",
        "model.add(layers.Dense(64, activation='relu'))\n",
        "model.add(layers.Dropout(0.5))\n",
        "model.add(layers.Dense(64, activation='relu'))\n",
        "model.add(layers.Dense(64, activation='relu'))\n",
        "model.add(layers.Dropout(0.5))\n",
        "model.add(layers.Dense(10, activation='softmax'))"
      ],
      "execution_count": 66,
      "outputs": []
    },
    {
      "cell_type": "code",
      "metadata": {
        "id": "ER5MEyUsymGz"
      },
      "source": [
        "model.compile(optimizer='adam', loss='sparse_categorical_crossentropy', metrics=['accuracy'])"
      ],
      "execution_count": 67,
      "outputs": []
    },
    {
      "cell_type": "markdown",
      "metadata": {
        "id": "jI8kyQDsy3Uy"
      },
      "source": [
        "6. Training the Model"
      ]
    },
    {
      "cell_type": "code",
      "metadata": {
        "colab": {
          "base_uri": "https://localhost:8080/"
        },
        "id": "e8txEpbhyuMT",
        "outputId": "29ee3b05-988f-4935-bfac-43efac7786f4"
      },
      "source": [
        "history = model.fit(x_train, y_train,validation_data=(x_test, y_test), epochs=200, batch_size=128)"
      ],
      "execution_count": 68,
      "outputs": [
        {
          "output_type": "stream",
          "text": [
            "Epoch 1/200\n",
            "7/7 [==============================] - 1s 75ms/step - loss: 5.3773 - accuracy: 0.0793 - val_loss: 2.2893 - val_accuracy: 0.1150\n",
            "Epoch 2/200\n",
            "7/7 [==============================] - 0s 6ms/step - loss: 2.6486 - accuracy: 0.1133 - val_loss: 2.2131 - val_accuracy: 0.2000\n",
            "Epoch 3/200\n",
            "7/7 [==============================] - 0s 6ms/step - loss: 2.3340 - accuracy: 0.1583 - val_loss: 2.1961 - val_accuracy: 0.2850\n",
            "Epoch 4/200\n",
            "7/7 [==============================] - 0s 7ms/step - loss: 2.2311 - accuracy: 0.1784 - val_loss: 2.1754 - val_accuracy: 0.2650\n",
            "Epoch 5/200\n",
            "7/7 [==============================] - 0s 6ms/step - loss: 2.2110 - accuracy: 0.1545 - val_loss: 2.1258 - val_accuracy: 0.3000\n",
            "Epoch 6/200\n",
            "7/7 [==============================] - 0s 6ms/step - loss: 2.1836 - accuracy: 0.1675 - val_loss: 2.1003 - val_accuracy: 0.2900\n",
            "Epoch 7/200\n",
            "7/7 [==============================] - 0s 7ms/step - loss: 2.1644 - accuracy: 0.2219 - val_loss: 2.0722 - val_accuracy: 0.3450\n",
            "Epoch 8/200\n",
            "7/7 [==============================] - 0s 7ms/step - loss: 2.1113 - accuracy: 0.2272 - val_loss: 2.0056 - val_accuracy: 0.2950\n",
            "Epoch 9/200\n",
            "7/7 [==============================] - 0s 7ms/step - loss: 2.1037 - accuracy: 0.2298 - val_loss: 1.9901 - val_accuracy: 0.3100\n",
            "Epoch 10/200\n",
            "7/7 [==============================] - 0s 8ms/step - loss: 2.0722 - accuracy: 0.2352 - val_loss: 1.9451 - val_accuracy: 0.3000\n",
            "Epoch 11/200\n",
            "7/7 [==============================] - 0s 7ms/step - loss: 2.0453 - accuracy: 0.2663 - val_loss: 1.9228 - val_accuracy: 0.3050\n",
            "Epoch 12/200\n",
            "7/7 [==============================] - 0s 6ms/step - loss: 2.0267 - accuracy: 0.2578 - val_loss: 1.8657 - val_accuracy: 0.3400\n",
            "Epoch 13/200\n",
            "7/7 [==============================] - 0s 6ms/step - loss: 2.0095 - accuracy: 0.2708 - val_loss: 1.8492 - val_accuracy: 0.3250\n",
            "Epoch 14/200\n",
            "7/7 [==============================] - 0s 7ms/step - loss: 1.9243 - accuracy: 0.2999 - val_loss: 1.8174 - val_accuracy: 0.3250\n",
            "Epoch 15/200\n",
            "7/7 [==============================] - 0s 6ms/step - loss: 1.8917 - accuracy: 0.3235 - val_loss: 1.7623 - val_accuracy: 0.3400\n",
            "Epoch 16/200\n",
            "7/7 [==============================] - 0s 7ms/step - loss: 1.8754 - accuracy: 0.3234 - val_loss: 1.7619 - val_accuracy: 0.3350\n",
            "Epoch 17/200\n",
            "7/7 [==============================] - 0s 7ms/step - loss: 1.8691 - accuracy: 0.3119 - val_loss: 1.7272 - val_accuracy: 0.3250\n",
            "Epoch 18/200\n",
            "7/7 [==============================] - 0s 7ms/step - loss: 1.8743 - accuracy: 0.3192 - val_loss: 1.7323 - val_accuracy: 0.3150\n",
            "Epoch 19/200\n",
            "7/7 [==============================] - 0s 6ms/step - loss: 1.8531 - accuracy: 0.3243 - val_loss: 1.7212 - val_accuracy: 0.3600\n",
            "Epoch 20/200\n",
            "7/7 [==============================] - 0s 7ms/step - loss: 1.8290 - accuracy: 0.3333 - val_loss: 1.7104 - val_accuracy: 0.3650\n",
            "Epoch 21/200\n",
            "7/7 [==============================] - 0s 6ms/step - loss: 1.7933 - accuracy: 0.3734 - val_loss: 1.7048 - val_accuracy: 0.3250\n",
            "Epoch 22/200\n",
            "7/7 [==============================] - 0s 7ms/step - loss: 1.8202 - accuracy: 0.3300 - val_loss: 1.6661 - val_accuracy: 0.3300\n",
            "Epoch 23/200\n",
            "7/7 [==============================] - 0s 6ms/step - loss: 1.8009 - accuracy: 0.3249 - val_loss: 1.6604 - val_accuracy: 0.3700\n",
            "Epoch 24/200\n",
            "7/7 [==============================] - 0s 7ms/step - loss: 1.8243 - accuracy: 0.3386 - val_loss: 1.6694 - val_accuracy: 0.3600\n",
            "Epoch 25/200\n",
            "7/7 [==============================] - 0s 6ms/step - loss: 1.7649 - accuracy: 0.3559 - val_loss: 1.6773 - val_accuracy: 0.3400\n",
            "Epoch 26/200\n",
            "7/7 [==============================] - 0s 6ms/step - loss: 1.7449 - accuracy: 0.3678 - val_loss: 1.6260 - val_accuracy: 0.3800\n",
            "Epoch 27/200\n",
            "7/7 [==============================] - 0s 6ms/step - loss: 1.7668 - accuracy: 0.3623 - val_loss: 1.6582 - val_accuracy: 0.3650\n",
            "Epoch 28/200\n",
            "7/7 [==============================] - 0s 7ms/step - loss: 1.6820 - accuracy: 0.3808 - val_loss: 1.6284 - val_accuracy: 0.4100\n",
            "Epoch 29/200\n",
            "7/7 [==============================] - 0s 8ms/step - loss: 1.7080 - accuracy: 0.3829 - val_loss: 1.6066 - val_accuracy: 0.4100\n",
            "Epoch 30/200\n",
            "7/7 [==============================] - 0s 6ms/step - loss: 1.7248 - accuracy: 0.3670 - val_loss: 1.6254 - val_accuracy: 0.4150\n",
            "Epoch 31/200\n",
            "7/7 [==============================] - 0s 6ms/step - loss: 1.6907 - accuracy: 0.3661 - val_loss: 1.6281 - val_accuracy: 0.4450\n",
            "Epoch 32/200\n",
            "7/7 [==============================] - 0s 6ms/step - loss: 1.6103 - accuracy: 0.4058 - val_loss: 1.5833 - val_accuracy: 0.4600\n",
            "Epoch 33/200\n",
            "7/7 [==============================] - 0s 7ms/step - loss: 1.5833 - accuracy: 0.4301 - val_loss: 1.5916 - val_accuracy: 0.4200\n",
            "Epoch 34/200\n",
            "7/7 [==============================] - 0s 7ms/step - loss: 1.6182 - accuracy: 0.4169 - val_loss: 1.5837 - val_accuracy: 0.4150\n",
            "Epoch 35/200\n",
            "7/7 [==============================] - 0s 7ms/step - loss: 1.5757 - accuracy: 0.4084 - val_loss: 1.6099 - val_accuracy: 0.4050\n",
            "Epoch 36/200\n",
            "7/7 [==============================] - 0s 7ms/step - loss: 1.6291 - accuracy: 0.4261 - val_loss: 1.5978 - val_accuracy: 0.4650\n",
            "Epoch 37/200\n",
            "7/7 [==============================] - 0s 9ms/step - loss: 1.6443 - accuracy: 0.4107 - val_loss: 1.5719 - val_accuracy: 0.4600\n",
            "Epoch 38/200\n",
            "7/7 [==============================] - 0s 8ms/step - loss: 1.6268 - accuracy: 0.4069 - val_loss: 1.6018 - val_accuracy: 0.4550\n",
            "Epoch 39/200\n",
            "7/7 [==============================] - 0s 8ms/step - loss: 1.6141 - accuracy: 0.4134 - val_loss: 1.5535 - val_accuracy: 0.4050\n",
            "Epoch 40/200\n",
            "7/7 [==============================] - 0s 8ms/step - loss: 1.5599 - accuracy: 0.4486 - val_loss: 1.5482 - val_accuracy: 0.4150\n",
            "Epoch 41/200\n",
            "7/7 [==============================] - 0s 7ms/step - loss: 1.5985 - accuracy: 0.4082 - val_loss: 1.5316 - val_accuracy: 0.4550\n",
            "Epoch 42/200\n",
            "7/7 [==============================] - 0s 7ms/step - loss: 1.5483 - accuracy: 0.4304 - val_loss: 1.5488 - val_accuracy: 0.4500\n",
            "Epoch 43/200\n",
            "7/7 [==============================] - 0s 9ms/step - loss: 1.5353 - accuracy: 0.4481 - val_loss: 1.6415 - val_accuracy: 0.3900\n",
            "Epoch 44/200\n",
            "7/7 [==============================] - 0s 7ms/step - loss: 1.5601 - accuracy: 0.4203 - val_loss: 1.5998 - val_accuracy: 0.4450\n",
            "Epoch 45/200\n",
            "7/7 [==============================] - 0s 7ms/step - loss: 1.5093 - accuracy: 0.4608 - val_loss: 1.5359 - val_accuracy: 0.4400\n",
            "Epoch 46/200\n",
            "7/7 [==============================] - 0s 7ms/step - loss: 1.5300 - accuracy: 0.4399 - val_loss: 1.5170 - val_accuracy: 0.4750\n",
            "Epoch 47/200\n",
            "7/7 [==============================] - 0s 7ms/step - loss: 1.5005 - accuracy: 0.4517 - val_loss: 1.5179 - val_accuracy: 0.4650\n",
            "Epoch 48/200\n",
            "7/7 [==============================] - 0s 6ms/step - loss: 1.4919 - accuracy: 0.4633 - val_loss: 1.4927 - val_accuracy: 0.4750\n",
            "Epoch 49/200\n",
            "7/7 [==============================] - 0s 6ms/step - loss: 1.4236 - accuracy: 0.4782 - val_loss: 1.5403 - val_accuracy: 0.4550\n",
            "Epoch 50/200\n",
            "7/7 [==============================] - 0s 11ms/step - loss: 1.4264 - accuracy: 0.4963 - val_loss: 1.5602 - val_accuracy: 0.4650\n",
            "Epoch 51/200\n",
            "7/7 [==============================] - 0s 7ms/step - loss: 1.4955 - accuracy: 0.4595 - val_loss: 1.4928 - val_accuracy: 0.4750\n",
            "Epoch 52/200\n",
            "7/7 [==============================] - 0s 8ms/step - loss: 1.4237 - accuracy: 0.4725 - val_loss: 1.5132 - val_accuracy: 0.5050\n",
            "Epoch 53/200\n",
            "7/7 [==============================] - 0s 8ms/step - loss: 1.4173 - accuracy: 0.4779 - val_loss: 1.4918 - val_accuracy: 0.4650\n",
            "Epoch 54/200\n",
            "7/7 [==============================] - 0s 7ms/step - loss: 1.4203 - accuracy: 0.4844 - val_loss: 1.5478 - val_accuracy: 0.4400\n",
            "Epoch 55/200\n",
            "7/7 [==============================] - 0s 7ms/step - loss: 1.4630 - accuracy: 0.4462 - val_loss: 1.4608 - val_accuracy: 0.5200\n",
            "Epoch 56/200\n",
            "7/7 [==============================] - 0s 7ms/step - loss: 1.4097 - accuracy: 0.4853 - val_loss: 1.5154 - val_accuracy: 0.4700\n",
            "Epoch 57/200\n",
            "7/7 [==============================] - 0s 8ms/step - loss: 1.3447 - accuracy: 0.4982 - val_loss: 1.5260 - val_accuracy: 0.4700\n",
            "Epoch 58/200\n",
            "7/7 [==============================] - 0s 7ms/step - loss: 1.3315 - accuracy: 0.5229 - val_loss: 1.5122 - val_accuracy: 0.4800\n",
            "Epoch 59/200\n",
            "7/7 [==============================] - 0s 7ms/step - loss: 1.3663 - accuracy: 0.5086 - val_loss: 1.4820 - val_accuracy: 0.4700\n",
            "Epoch 60/200\n",
            "7/7 [==============================] - 0s 7ms/step - loss: 1.3500 - accuracy: 0.5150 - val_loss: 1.4775 - val_accuracy: 0.4850\n",
            "Epoch 61/200\n",
            "7/7 [==============================] - 0s 9ms/step - loss: 1.2803 - accuracy: 0.5357 - val_loss: 1.4910 - val_accuracy: 0.4900\n",
            "Epoch 62/200\n",
            "7/7 [==============================] - 0s 7ms/step - loss: 1.3177 - accuracy: 0.4992 - val_loss: 1.4731 - val_accuracy: 0.4950\n",
            "Epoch 63/200\n",
            "7/7 [==============================] - 0s 8ms/step - loss: 1.3546 - accuracy: 0.5267 - val_loss: 1.5094 - val_accuracy: 0.4700\n",
            "Epoch 64/200\n",
            "7/7 [==============================] - 0s 7ms/step - loss: 1.2462 - accuracy: 0.5601 - val_loss: 1.5255 - val_accuracy: 0.4750\n",
            "Epoch 65/200\n",
            "7/7 [==============================] - 0s 7ms/step - loss: 1.3032 - accuracy: 0.5163 - val_loss: 1.5097 - val_accuracy: 0.4950\n",
            "Epoch 66/200\n",
            "7/7 [==============================] - 0s 7ms/step - loss: 1.3487 - accuracy: 0.5173 - val_loss: 1.4629 - val_accuracy: 0.5100\n",
            "Epoch 67/200\n",
            "7/7 [==============================] - 0s 7ms/step - loss: 1.2486 - accuracy: 0.5457 - val_loss: 1.4209 - val_accuracy: 0.5350\n",
            "Epoch 68/200\n",
            "7/7 [==============================] - 0s 7ms/step - loss: 1.2910 - accuracy: 0.5544 - val_loss: 1.4946 - val_accuracy: 0.5000\n",
            "Epoch 69/200\n",
            "7/7 [==============================] - 0s 7ms/step - loss: 1.2995 - accuracy: 0.5028 - val_loss: 1.4770 - val_accuracy: 0.5150\n",
            "Epoch 70/200\n",
            "7/7 [==============================] - 0s 7ms/step - loss: 1.2778 - accuracy: 0.5409 - val_loss: 1.4478 - val_accuracy: 0.5000\n",
            "Epoch 71/200\n",
            "7/7 [==============================] - 0s 7ms/step - loss: 1.2774 - accuracy: 0.5380 - val_loss: 1.4566 - val_accuracy: 0.5150\n",
            "Epoch 72/200\n",
            "7/7 [==============================] - 0s 8ms/step - loss: 1.2574 - accuracy: 0.5527 - val_loss: 1.4971 - val_accuracy: 0.4750\n",
            "Epoch 73/200\n",
            "7/7 [==============================] - 0s 8ms/step - loss: 1.2440 - accuracy: 0.5266 - val_loss: 1.4746 - val_accuracy: 0.5150\n",
            "Epoch 74/200\n",
            "7/7 [==============================] - 0s 8ms/step - loss: 1.1965 - accuracy: 0.5662 - val_loss: 1.4695 - val_accuracy: 0.5050\n",
            "Epoch 75/200\n",
            "7/7 [==============================] - 0s 8ms/step - loss: 1.2346 - accuracy: 0.5340 - val_loss: 1.4557 - val_accuracy: 0.5200\n",
            "Epoch 76/200\n",
            "7/7 [==============================] - 0s 8ms/step - loss: 1.1399 - accuracy: 0.5786 - val_loss: 1.4935 - val_accuracy: 0.5250\n",
            "Epoch 77/200\n",
            "7/7 [==============================] - 0s 8ms/step - loss: 1.2021 - accuracy: 0.5478 - val_loss: 1.4653 - val_accuracy: 0.5500\n",
            "Epoch 78/200\n",
            "7/7 [==============================] - 0s 7ms/step - loss: 1.2100 - accuracy: 0.5695 - val_loss: 1.4648 - val_accuracy: 0.5350\n",
            "Epoch 79/200\n",
            "7/7 [==============================] - 0s 11ms/step - loss: 1.2227 - accuracy: 0.5493 - val_loss: 1.5146 - val_accuracy: 0.5100\n",
            "Epoch 80/200\n",
            "7/7 [==============================] - 0s 7ms/step - loss: 1.1858 - accuracy: 0.5408 - val_loss: 1.3896 - val_accuracy: 0.5150\n",
            "Epoch 81/200\n",
            "7/7 [==============================] - 0s 7ms/step - loss: 1.1111 - accuracy: 0.5854 - val_loss: 1.4543 - val_accuracy: 0.5300\n",
            "Epoch 82/200\n",
            "7/7 [==============================] - 0s 7ms/step - loss: 1.0616 - accuracy: 0.5998 - val_loss: 1.5320 - val_accuracy: 0.5100\n",
            "Epoch 83/200\n",
            "7/7 [==============================] - 0s 8ms/step - loss: 1.1142 - accuracy: 0.5786 - val_loss: 1.5654 - val_accuracy: 0.5250\n",
            "Epoch 84/200\n",
            "7/7 [==============================] - 0s 7ms/step - loss: 1.1715 - accuracy: 0.5604 - val_loss: 1.3629 - val_accuracy: 0.5550\n",
            "Epoch 85/200\n",
            "7/7 [==============================] - 0s 8ms/step - loss: 1.1676 - accuracy: 0.5913 - val_loss: 1.3668 - val_accuracy: 0.5600\n",
            "Epoch 86/200\n",
            "7/7 [==============================] - 0s 7ms/step - loss: 1.1396 - accuracy: 0.5449 - val_loss: 1.5336 - val_accuracy: 0.5200\n",
            "Epoch 87/200\n",
            "7/7 [==============================] - 0s 7ms/step - loss: 1.1227 - accuracy: 0.5819 - val_loss: 1.5145 - val_accuracy: 0.5350\n",
            "Epoch 88/200\n",
            "7/7 [==============================] - 0s 7ms/step - loss: 1.1220 - accuracy: 0.5826 - val_loss: 1.4208 - val_accuracy: 0.5300\n",
            "Epoch 89/200\n",
            "7/7 [==============================] - 0s 7ms/step - loss: 1.1433 - accuracy: 0.5796 - val_loss: 1.4693 - val_accuracy: 0.5350\n",
            "Epoch 90/200\n",
            "7/7 [==============================] - 0s 7ms/step - loss: 1.0658 - accuracy: 0.6224 - val_loss: 1.4778 - val_accuracy: 0.5350\n",
            "Epoch 91/200\n",
            "7/7 [==============================] - 0s 8ms/step - loss: 1.0389 - accuracy: 0.6231 - val_loss: 1.4581 - val_accuracy: 0.5500\n",
            "Epoch 92/200\n",
            "7/7 [==============================] - 0s 7ms/step - loss: 1.2113 - accuracy: 0.5692 - val_loss: 1.4656 - val_accuracy: 0.5300\n",
            "Epoch 93/200\n",
            "7/7 [==============================] - 0s 8ms/step - loss: 1.1360 - accuracy: 0.5902 - val_loss: 1.5322 - val_accuracy: 0.5450\n",
            "Epoch 94/200\n",
            "7/7 [==============================] - 0s 8ms/step - loss: 1.0674 - accuracy: 0.6009 - val_loss: 1.4990 - val_accuracy: 0.5300\n",
            "Epoch 95/200\n",
            "7/7 [==============================] - 0s 9ms/step - loss: 1.0389 - accuracy: 0.6181 - val_loss: 1.6497 - val_accuracy: 0.5250\n",
            "Epoch 96/200\n",
            "7/7 [==============================] - 0s 8ms/step - loss: 1.0619 - accuracy: 0.6104 - val_loss: 1.3757 - val_accuracy: 0.5750\n",
            "Epoch 97/200\n",
            "7/7 [==============================] - 0s 8ms/step - loss: 1.0773 - accuracy: 0.6132 - val_loss: 1.5420 - val_accuracy: 0.5000\n",
            "Epoch 98/200\n",
            "7/7 [==============================] - 0s 8ms/step - loss: 1.0322 - accuracy: 0.6057 - val_loss: 1.4538 - val_accuracy: 0.5650\n",
            "Epoch 99/200\n",
            "7/7 [==============================] - 0s 7ms/step - loss: 0.9374 - accuracy: 0.6573 - val_loss: 1.3664 - val_accuracy: 0.5950\n",
            "Epoch 100/200\n",
            "7/7 [==============================] - 0s 7ms/step - loss: 1.0431 - accuracy: 0.6413 - val_loss: 1.4788 - val_accuracy: 0.5450\n",
            "Epoch 101/200\n",
            "7/7 [==============================] - 0s 7ms/step - loss: 0.9209 - accuracy: 0.6679 - val_loss: 1.4533 - val_accuracy: 0.5450\n",
            "Epoch 102/200\n",
            "7/7 [==============================] - 0s 9ms/step - loss: 0.9950 - accuracy: 0.6240 - val_loss: 1.4820 - val_accuracy: 0.5750\n",
            "Epoch 103/200\n",
            "7/7 [==============================] - 0s 7ms/step - loss: 0.9792 - accuracy: 0.6302 - val_loss: 1.5030 - val_accuracy: 0.5400\n",
            "Epoch 104/200\n",
            "7/7 [==============================] - 0s 7ms/step - loss: 0.9880 - accuracy: 0.6557 - val_loss: 1.5056 - val_accuracy: 0.5400\n",
            "Epoch 105/200\n",
            "7/7 [==============================] - 0s 7ms/step - loss: 0.9755 - accuracy: 0.6469 - val_loss: 1.5544 - val_accuracy: 0.5300\n",
            "Epoch 106/200\n",
            "7/7 [==============================] - 0s 7ms/step - loss: 0.9384 - accuracy: 0.6442 - val_loss: 1.5384 - val_accuracy: 0.5350\n",
            "Epoch 107/200\n",
            "7/7 [==============================] - 0s 7ms/step - loss: 0.9440 - accuracy: 0.6552 - val_loss: 1.5307 - val_accuracy: 0.5450\n",
            "Epoch 108/200\n",
            "7/7 [==============================] - 0s 7ms/step - loss: 0.9061 - accuracy: 0.6641 - val_loss: 1.5504 - val_accuracy: 0.5500\n",
            "Epoch 109/200\n",
            "7/7 [==============================] - 0s 7ms/step - loss: 0.9302 - accuracy: 0.6643 - val_loss: 1.5099 - val_accuracy: 0.5400\n",
            "Epoch 110/200\n",
            "7/7 [==============================] - 0s 7ms/step - loss: 0.9418 - accuracy: 0.6508 - val_loss: 1.4243 - val_accuracy: 0.6000\n",
            "Epoch 111/200\n",
            "7/7 [==============================] - 0s 7ms/step - loss: 0.8730 - accuracy: 0.6861 - val_loss: 1.5310 - val_accuracy: 0.5450\n",
            "Epoch 112/200\n",
            "7/7 [==============================] - 0s 7ms/step - loss: 0.9023 - accuracy: 0.6546 - val_loss: 1.4636 - val_accuracy: 0.5650\n",
            "Epoch 113/200\n",
            "7/7 [==============================] - 0s 7ms/step - loss: 0.8575 - accuracy: 0.6718 - val_loss: 1.5691 - val_accuracy: 0.5750\n",
            "Epoch 114/200\n",
            "7/7 [==============================] - 0s 8ms/step - loss: 1.0385 - accuracy: 0.6249 - val_loss: 1.5157 - val_accuracy: 0.5650\n",
            "Epoch 115/200\n",
            "7/7 [==============================] - 0s 8ms/step - loss: 0.9777 - accuracy: 0.6283 - val_loss: 1.4811 - val_accuracy: 0.6000\n",
            "Epoch 116/200\n",
            "7/7 [==============================] - 0s 6ms/step - loss: 1.0307 - accuracy: 0.6491 - val_loss: 1.5030 - val_accuracy: 0.5300\n",
            "Epoch 117/200\n",
            "7/7 [==============================] - 0s 7ms/step - loss: 0.9412 - accuracy: 0.6570 - val_loss: 1.5117 - val_accuracy: 0.5750\n",
            "Epoch 118/200\n",
            "7/7 [==============================] - 0s 7ms/step - loss: 0.9360 - accuracy: 0.6871 - val_loss: 1.6087 - val_accuracy: 0.5400\n",
            "Epoch 119/200\n",
            "7/7 [==============================] - 0s 7ms/step - loss: 0.8918 - accuracy: 0.6646 - val_loss: 1.5256 - val_accuracy: 0.5750\n",
            "Epoch 120/200\n",
            "7/7 [==============================] - 0s 7ms/step - loss: 0.9379 - accuracy: 0.6313 - val_loss: 1.4959 - val_accuracy: 0.5900\n",
            "Epoch 121/200\n",
            "7/7 [==============================] - 0s 8ms/step - loss: 0.9117 - accuracy: 0.6465 - val_loss: 1.5093 - val_accuracy: 0.6050\n",
            "Epoch 122/200\n",
            "7/7 [==============================] - 0s 7ms/step - loss: 0.9007 - accuracy: 0.6589 - val_loss: 1.6532 - val_accuracy: 0.5450\n",
            "Epoch 123/200\n",
            "7/7 [==============================] - 0s 7ms/step - loss: 0.8558 - accuracy: 0.6869 - val_loss: 1.4645 - val_accuracy: 0.6150\n",
            "Epoch 124/200\n",
            "7/7 [==============================] - 0s 7ms/step - loss: 0.8408 - accuracy: 0.7014 - val_loss: 1.4762 - val_accuracy: 0.5750\n",
            "Epoch 125/200\n",
            "7/7 [==============================] - 0s 8ms/step - loss: 0.8181 - accuracy: 0.6853 - val_loss: 1.6237 - val_accuracy: 0.5650\n",
            "Epoch 126/200\n",
            "7/7 [==============================] - 0s 8ms/step - loss: 0.8685 - accuracy: 0.6754 - val_loss: 1.4790 - val_accuracy: 0.5900\n",
            "Epoch 127/200\n",
            "7/7 [==============================] - 0s 7ms/step - loss: 0.8266 - accuracy: 0.7112 - val_loss: 1.6781 - val_accuracy: 0.5650\n",
            "Epoch 128/200\n",
            "7/7 [==============================] - 0s 8ms/step - loss: 0.7986 - accuracy: 0.7003 - val_loss: 1.6103 - val_accuracy: 0.5900\n",
            "Epoch 129/200\n",
            "7/7 [==============================] - 0s 7ms/step - loss: 0.7273 - accuracy: 0.7290 - val_loss: 1.5669 - val_accuracy: 0.5750\n",
            "Epoch 130/200\n",
            "7/7 [==============================] - 0s 8ms/step - loss: 0.8362 - accuracy: 0.6885 - val_loss: 1.7557 - val_accuracy: 0.5500\n",
            "Epoch 131/200\n",
            "7/7 [==============================] - 0s 8ms/step - loss: 0.8478 - accuracy: 0.6915 - val_loss: 1.4552 - val_accuracy: 0.6100\n",
            "Epoch 132/200\n",
            "7/7 [==============================] - 0s 8ms/step - loss: 0.8329 - accuracy: 0.6901 - val_loss: 1.5633 - val_accuracy: 0.5850\n",
            "Epoch 133/200\n",
            "7/7 [==============================] - 0s 8ms/step - loss: 0.7302 - accuracy: 0.7435 - val_loss: 1.5552 - val_accuracy: 0.6150\n",
            "Epoch 134/200\n",
            "7/7 [==============================] - 0s 7ms/step - loss: 0.7805 - accuracy: 0.7199 - val_loss: 1.5962 - val_accuracy: 0.6000\n",
            "Epoch 135/200\n",
            "7/7 [==============================] - 0s 7ms/step - loss: 0.7188 - accuracy: 0.7164 - val_loss: 1.6037 - val_accuracy: 0.5750\n",
            "Epoch 136/200\n",
            "7/7 [==============================] - 0s 7ms/step - loss: 0.7668 - accuracy: 0.6982 - val_loss: 1.6703 - val_accuracy: 0.6000\n",
            "Epoch 137/200\n",
            "7/7 [==============================] - 0s 7ms/step - loss: 0.7358 - accuracy: 0.7454 - val_loss: 1.6377 - val_accuracy: 0.5850\n",
            "Epoch 138/200\n",
            "7/7 [==============================] - 0s 7ms/step - loss: 0.7328 - accuracy: 0.7098 - val_loss: 1.6083 - val_accuracy: 0.6050\n",
            "Epoch 139/200\n",
            "7/7 [==============================] - 0s 7ms/step - loss: 0.7211 - accuracy: 0.7344 - val_loss: 1.6429 - val_accuracy: 0.5850\n",
            "Epoch 140/200\n",
            "7/7 [==============================] - 0s 8ms/step - loss: 0.7104 - accuracy: 0.7462 - val_loss: 1.8656 - val_accuracy: 0.5900\n",
            "Epoch 141/200\n",
            "7/7 [==============================] - 0s 9ms/step - loss: 0.7886 - accuracy: 0.7139 - val_loss: 1.8426 - val_accuracy: 0.5800\n",
            "Epoch 142/200\n",
            "7/7 [==============================] - 0s 7ms/step - loss: 0.7039 - accuracy: 0.7320 - val_loss: 1.8065 - val_accuracy: 0.6050\n",
            "Epoch 143/200\n",
            "7/7 [==============================] - 0s 7ms/step - loss: 0.7481 - accuracy: 0.7258 - val_loss: 1.8614 - val_accuracy: 0.5800\n",
            "Epoch 144/200\n",
            "7/7 [==============================] - 0s 8ms/step - loss: 0.8325 - accuracy: 0.7080 - val_loss: 1.6230 - val_accuracy: 0.5850\n",
            "Epoch 145/200\n",
            "7/7 [==============================] - 0s 7ms/step - loss: 0.7301 - accuracy: 0.7200 - val_loss: 1.7392 - val_accuracy: 0.5750\n",
            "Epoch 146/200\n",
            "7/7 [==============================] - 0s 8ms/step - loss: 0.7548 - accuracy: 0.7252 - val_loss: 1.6348 - val_accuracy: 0.6000\n",
            "Epoch 147/200\n",
            "7/7 [==============================] - 0s 7ms/step - loss: 0.7625 - accuracy: 0.7160 - val_loss: 1.7268 - val_accuracy: 0.5950\n",
            "Epoch 148/200\n",
            "7/7 [==============================] - 0s 7ms/step - loss: 0.7657 - accuracy: 0.6988 - val_loss: 1.8659 - val_accuracy: 0.5750\n",
            "Epoch 149/200\n",
            "7/7 [==============================] - 0s 7ms/step - loss: 0.8068 - accuracy: 0.6963 - val_loss: 1.7262 - val_accuracy: 0.5950\n",
            "Epoch 150/200\n",
            "7/7 [==============================] - 0s 7ms/step - loss: 0.6564 - accuracy: 0.7580 - val_loss: 1.5981 - val_accuracy: 0.6100\n",
            "Epoch 151/200\n",
            "7/7 [==============================] - 0s 7ms/step - loss: 0.6418 - accuracy: 0.7759 - val_loss: 1.7603 - val_accuracy: 0.6100\n",
            "Epoch 152/200\n",
            "7/7 [==============================] - 0s 9ms/step - loss: 0.6097 - accuracy: 0.7838 - val_loss: 1.6602 - val_accuracy: 0.6100\n",
            "Epoch 153/200\n",
            "7/7 [==============================] - 0s 7ms/step - loss: 0.6297 - accuracy: 0.7607 - val_loss: 1.9492 - val_accuracy: 0.5850\n",
            "Epoch 154/200\n",
            "7/7 [==============================] - 0s 7ms/step - loss: 0.7427 - accuracy: 0.7275 - val_loss: 1.6842 - val_accuracy: 0.5950\n",
            "Epoch 155/200\n",
            "7/7 [==============================] - 0s 7ms/step - loss: 0.7114 - accuracy: 0.7350 - val_loss: 1.8325 - val_accuracy: 0.5650\n",
            "Epoch 156/200\n",
            "7/7 [==============================] - 0s 9ms/step - loss: 0.7486 - accuracy: 0.7255 - val_loss: 1.8576 - val_accuracy: 0.5850\n",
            "Epoch 157/200\n",
            "7/7 [==============================] - 0s 9ms/step - loss: 0.7061 - accuracy: 0.7414 - val_loss: 1.7025 - val_accuracy: 0.6000\n",
            "Epoch 158/200\n",
            "7/7 [==============================] - 0s 7ms/step - loss: 0.6287 - accuracy: 0.7608 - val_loss: 1.7964 - val_accuracy: 0.6200\n",
            "Epoch 159/200\n",
            "7/7 [==============================] - 0s 7ms/step - loss: 0.6322 - accuracy: 0.7765 - val_loss: 1.7778 - val_accuracy: 0.6150\n",
            "Epoch 160/200\n",
            "7/7 [==============================] - 0s 7ms/step - loss: 0.6414 - accuracy: 0.7471 - val_loss: 1.6277 - val_accuracy: 0.6500\n",
            "Epoch 161/200\n",
            "7/7 [==============================] - 0s 7ms/step - loss: 0.6206 - accuracy: 0.7957 - val_loss: 1.8060 - val_accuracy: 0.6100\n",
            "Epoch 162/200\n",
            "7/7 [==============================] - 0s 8ms/step - loss: 0.6425 - accuracy: 0.7573 - val_loss: 1.8817 - val_accuracy: 0.5800\n",
            "Epoch 163/200\n",
            "7/7 [==============================] - 0s 8ms/step - loss: 0.6155 - accuracy: 0.7764 - val_loss: 1.8848 - val_accuracy: 0.5700\n",
            "Epoch 164/200\n",
            "7/7 [==============================] - 0s 7ms/step - loss: 0.6518 - accuracy: 0.7802 - val_loss: 1.6877 - val_accuracy: 0.5950\n",
            "Epoch 165/200\n",
            "7/7 [==============================] - 0s 7ms/step - loss: 0.6253 - accuracy: 0.7547 - val_loss: 1.9051 - val_accuracy: 0.5550\n",
            "Epoch 166/200\n",
            "7/7 [==============================] - 0s 7ms/step - loss: 0.6067 - accuracy: 0.7687 - val_loss: 1.7478 - val_accuracy: 0.6100\n",
            "Epoch 167/200\n",
            "7/7 [==============================] - 0s 8ms/step - loss: 0.7011 - accuracy: 0.7478 - val_loss: 1.9792 - val_accuracy: 0.6050\n",
            "Epoch 168/200\n",
            "7/7 [==============================] - 0s 7ms/step - loss: 0.6476 - accuracy: 0.7711 - val_loss: 1.9270 - val_accuracy: 0.5950\n",
            "Epoch 169/200\n",
            "7/7 [==============================] - 0s 8ms/step - loss: 0.6253 - accuracy: 0.7654 - val_loss: 1.9138 - val_accuracy: 0.5900\n",
            "Epoch 170/200\n",
            "7/7 [==============================] - 0s 7ms/step - loss: 0.6583 - accuracy: 0.7382 - val_loss: 1.9985 - val_accuracy: 0.5800\n",
            "Epoch 171/200\n",
            "7/7 [==============================] - 0s 7ms/step - loss: 0.6142 - accuracy: 0.7828 - val_loss: 1.8002 - val_accuracy: 0.6200\n",
            "Epoch 172/200\n",
            "7/7 [==============================] - 0s 8ms/step - loss: 0.5756 - accuracy: 0.7806 - val_loss: 2.1385 - val_accuracy: 0.5800\n",
            "Epoch 173/200\n",
            "7/7 [==============================] - 0s 7ms/step - loss: 0.5566 - accuracy: 0.7941 - val_loss: 1.7596 - val_accuracy: 0.6650\n",
            "Epoch 174/200\n",
            "7/7 [==============================] - 0s 7ms/step - loss: 0.4854 - accuracy: 0.8262 - val_loss: 1.7715 - val_accuracy: 0.6150\n",
            "Epoch 175/200\n",
            "7/7 [==============================] - 0s 7ms/step - loss: 0.5213 - accuracy: 0.8067 - val_loss: 1.9018 - val_accuracy: 0.6350\n",
            "Epoch 176/200\n",
            "7/7 [==============================] - 0s 7ms/step - loss: 0.5000 - accuracy: 0.8218 - val_loss: 1.9589 - val_accuracy: 0.6350\n",
            "Epoch 177/200\n",
            "7/7 [==============================] - 0s 7ms/step - loss: 0.4676 - accuracy: 0.8113 - val_loss: 2.1150 - val_accuracy: 0.6250\n",
            "Epoch 178/200\n",
            "7/7 [==============================] - 0s 7ms/step - loss: 0.5491 - accuracy: 0.7697 - val_loss: 2.1166 - val_accuracy: 0.6500\n",
            "Epoch 179/200\n",
            "7/7 [==============================] - 0s 8ms/step - loss: 0.4844 - accuracy: 0.8109 - val_loss: 2.1391 - val_accuracy: 0.5950\n",
            "Epoch 180/200\n",
            "7/7 [==============================] - 0s 8ms/step - loss: 0.4972 - accuracy: 0.7994 - val_loss: 1.8448 - val_accuracy: 0.6300\n",
            "Epoch 181/200\n",
            "7/7 [==============================] - 0s 7ms/step - loss: 0.4956 - accuracy: 0.8274 - val_loss: 2.0162 - val_accuracy: 0.6150\n",
            "Epoch 182/200\n",
            "7/7 [==============================] - 0s 8ms/step - loss: 0.5053 - accuracy: 0.8175 - val_loss: 2.0644 - val_accuracy: 0.6250\n",
            "Epoch 183/200\n",
            "7/7 [==============================] - 0s 7ms/step - loss: 0.4533 - accuracy: 0.8343 - val_loss: 2.0289 - val_accuracy: 0.6050\n",
            "Epoch 184/200\n",
            "7/7 [==============================] - 0s 7ms/step - loss: 0.4904 - accuracy: 0.8122 - val_loss: 2.1154 - val_accuracy: 0.6200\n",
            "Epoch 185/200\n",
            "7/7 [==============================] - 0s 7ms/step - loss: 0.4947 - accuracy: 0.8313 - val_loss: 2.2598 - val_accuracy: 0.5600\n",
            "Epoch 186/200\n",
            "7/7 [==============================] - 0s 7ms/step - loss: 0.5437 - accuracy: 0.7978 - val_loss: 2.0933 - val_accuracy: 0.6200\n",
            "Epoch 187/200\n",
            "7/7 [==============================] - 0s 8ms/step - loss: 0.5534 - accuracy: 0.8055 - val_loss: 2.1408 - val_accuracy: 0.5750\n",
            "Epoch 188/200\n",
            "7/7 [==============================] - 0s 7ms/step - loss: 0.5330 - accuracy: 0.8173 - val_loss: 1.8910 - val_accuracy: 0.6150\n",
            "Epoch 189/200\n",
            "7/7 [==============================] - 0s 8ms/step - loss: 0.4789 - accuracy: 0.8352 - val_loss: 1.9953 - val_accuracy: 0.6400\n",
            "Epoch 190/200\n",
            "7/7 [==============================] - 0s 8ms/step - loss: 0.4180 - accuracy: 0.8476 - val_loss: 2.0788 - val_accuracy: 0.6400\n",
            "Epoch 191/200\n",
            "7/7 [==============================] - 0s 7ms/step - loss: 0.4736 - accuracy: 0.8315 - val_loss: 2.2278 - val_accuracy: 0.5900\n",
            "Epoch 192/200\n",
            "7/7 [==============================] - 0s 7ms/step - loss: 0.4719 - accuracy: 0.8423 - val_loss: 2.1579 - val_accuracy: 0.6100\n",
            "Epoch 193/200\n",
            "7/7 [==============================] - 0s 7ms/step - loss: 0.4619 - accuracy: 0.8426 - val_loss: 2.2212 - val_accuracy: 0.6500\n",
            "Epoch 194/200\n",
            "7/7 [==============================] - 0s 7ms/step - loss: 0.4436 - accuracy: 0.8254 - val_loss: 2.0538 - val_accuracy: 0.6100\n",
            "Epoch 195/200\n",
            "7/7 [==============================] - 0s 8ms/step - loss: 0.4345 - accuracy: 0.8287 - val_loss: 2.0346 - val_accuracy: 0.6450\n",
            "Epoch 196/200\n",
            "7/7 [==============================] - 0s 7ms/step - loss: 0.4863 - accuracy: 0.8333 - val_loss: 2.1482 - val_accuracy: 0.6150\n",
            "Epoch 197/200\n",
            "7/7 [==============================] - 0s 7ms/step - loss: 0.4252 - accuracy: 0.8437 - val_loss: 2.2164 - val_accuracy: 0.6000\n",
            "Epoch 198/200\n",
            "7/7 [==============================] - 0s 7ms/step - loss: 0.4705 - accuracy: 0.8433 - val_loss: 2.3296 - val_accuracy: 0.5900\n",
            "Epoch 199/200\n",
            "7/7 [==============================] - 0s 7ms/step - loss: 0.4760 - accuracy: 0.8167 - val_loss: 2.4019 - val_accuracy: 0.6050\n",
            "Epoch 200/200\n",
            "7/7 [==============================] - 0s 7ms/step - loss: 0.4095 - accuracy: 0.8496 - val_loss: 2.3068 - val_accuracy: 0.6100\n"
          ],
          "name": "stdout"
        }
      ]
    },
    {
      "cell_type": "code",
      "metadata": {
        "id": "0F7xvmmajLS5"
      },
      "source": [
        "from keras.models import load_model\n",
        "model.save('genre_classifier_cnn.h5') "
      ],
      "execution_count": 69,
      "outputs": []
    },
    {
      "cell_type": "markdown",
      "metadata": {
        "id": "6BFElgb-zJp8"
      },
      "source": [
        "7. Testing the Model"
      ]
    },
    {
      "cell_type": "code",
      "metadata": {
        "colab": {
          "base_uri": "https://localhost:8080/"
        },
        "id": "lMoqoeW6yz3x",
        "outputId": "a0fdb541-eb88-484b-b51a-0c90831c35c8"
      },
      "source": [
        "print(history.history.keys())"
      ],
      "execution_count": 70,
      "outputs": [
        {
          "output_type": "stream",
          "text": [
            "dict_keys(['loss', 'accuracy', 'val_loss', 'val_accuracy'])\n"
          ],
          "name": "stdout"
        }
      ]
    },
    {
      "cell_type": "code",
      "metadata": {
        "id": "FOfTQuVeiZ1v"
      },
      "source": [
        "import matplotlib.pyplot as plt"
      ],
      "execution_count": 71,
      "outputs": []
    },
    {
      "cell_type": "code",
      "metadata": {
        "colab": {
          "base_uri": "https://localhost:8080/",
          "height": 295
        },
        "id": "1R4fHiVpiPnb",
        "outputId": "9d4e4ef3-ff2a-4ff2-bfc7-303ca50cbd5b"
      },
      "source": [
        "#plotting accuracy\n",
        "plt.plot(history.history['accuracy'])\n",
        "plt.plot(history.history['val_accuracy'])\n",
        "plt.title('model accuracy')\n",
        "plt.ylabel('accuracy')\n",
        "plt.xlabel('epoch')\n",
        "plt.legend(['train', 'test'], loc='upper left')\n",
        "plt.show()"
      ],
      "execution_count": 72,
      "outputs": [
        {
          "output_type": "display_data",
          "data": {
            "image/png": "[encoded data removed]",
            "text/plain": [
              "<Figure size 432x288 with 1 Axes>"
            ]
          },
          "metadata": {
            "tags": [],
            "needs_background": "light"
          }
        }
      ]
    },
    {
      "cell_type": "code",
      "metadata": {
        "colab": {
          "base_uri": "https://localhost:8080/",
          "height": 295
        },
        "id": "KEpcnn-xyUc3",
        "outputId": "1b482bcd-f1c9-4b5a-ee8a-8b4e707fbeda"
      },
      "source": [
        "#plot loss\n",
        "plt.plot(history.history['loss'])\n",
        "plt.plot(history.history['val_loss'])\n",
        "plt.title('model loss')\n",
        "plt.ylabel('loss')\n",
        "plt.xlabel('epoch')\n",
        "plt.legend(['train', 'test'], loc='upper left')\n",
        "plt.show()"
      ],
      "execution_count": 73,
      "outputs": [
        {
          "output_type": "display_data",
          "data": {
            "image/png": "[encoded data removed]",
            "text/plain": [
              "<Figure size 432x288 with 1 Axes>"
            ]
          },
          "metadata": {
            "tags": [],
            "needs_background": "light"
          }
        }
      ]
    },
    {
      "cell_type": "code",
      "metadata": {
        "id": "_zxrSh3sieEU"
      },
      "source": [
        ""
      ],
      "execution_count": 65,
      "outputs": []
    }
  ]
}